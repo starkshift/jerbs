{
 "cells": [
  {
   "cell_type": "code",
   "execution_count": 2,
   "metadata": {
    "collapsed": false
   },
   "outputs": [],
   "source": [
    "from bs4 import BeautifulSoup\n",
    "import requests\n",
    "from spacy.en import English\n",
    "from tqdm import tqdm_notebook\n",
    "\n",
    "def StringToFunction(func_name):\n",
    "    possibles = globals().copy()\n",
    "    possibles.update(locals())\n",
    "    func = possibles.get(func_name)\n",
    "    if not func:\n",
    "        raise NotImplementedError(\"Function %s not implemented\" % func_name)\n",
    "    return func\n",
    "\n",
    "class JobScraper(object):\n",
    "    def __init__(self, spider, parmdata):\n",
    "        self.spider = StringToFunction(spider)\n",
    "        self.parmdata = parmdata\n",
    "        \n",
    "    def Spider(self,*argv):\n",
    "        jobs = []\n",
    "        nlp = English()\n",
    "        self.data = list()\n",
    "        for joburl in self.spider(self,*argv):\n",
    "            self.data.append(dict())\n",
    "            r = requests.get(joburl, cookies=self.cookies)\n",
    "            soup = BeautifulSoup(r.text,\"lxml\")\n",
    "            content = soup.body.find('div', attrs={'id':'ctl00_MainContent_PrimaryContent'})\n",
    "            jobs.append(dict())\n",
    "            try:\n",
    "                for span in content.span.find_all('span',recursive=True):\n",
    "                      if span.has_attr('aria-labelledby'):\n",
    "                            #print span['id'] + \" : \" + span.text\n",
    "                            self.data[-1][span['id']] = span.getText(separator=u' ')\n",
    "                            #doc = nlp(span.text)\n",
    "                            #for np in doc.noun_chunks:\n",
    "                            #    np.text\n",
    "            except:\n",
    "                print soup.body"
   ]
  },
  {
   "cell_type": "code",
   "execution_count": 3,
   "metadata": {
    "collapsed": false
   },
   "outputs": [],
   "source": [
    "def NullSpider(url):\n",
    "    yield url\n",
    "    \n",
    "def DullSpider(url):\n",
    "    yield url + 'dull'\n",
    "    \n",
    "def BrassRingSpider(self):\n",
    "    # we need to get the cookies from this \"base url\" to make subsequent queries\n",
    "    self.parmdata['baseurl'] = \"%s/searchopenings.aspx?partnerid=%s&siteid=%s\"%(self.parmdata['site'],self.parmdata['partnerid'],self.parmdata['siteid'])\n",
    "    baser = requests.get(self.parmdata['baseurl'])\n",
    "    self.cookies = baser.cookies\n",
    "    \n",
    "    # identify the url for performing search queries\n",
    "    searchpage = dict()\n",
    "    soup = BeautifulSoup(baser.text,\"lxml\")\n",
    "    search = soup.find_all('form',attrs={'id' : 'aspnetForm'})\n",
    "    \n",
    "    # loop over search result pages; each page contains 50 listings by default\n",
    "    startrecord = 1\n",
    "    while True:\n",
    "        searchpage['url'] = \"%s/%s\"%(self.parmdata['site'],search[0]['action'])\n",
    "        headers = {'recordstart':startrecord}\n",
    "        searchpage['data'] = requests.post(searchpage['url'],cookies=baser.cookies,data=headers)\n",
    "        searchpage['soup'] = BeautifulSoup(unicode(searchpage['data'].text),\"lxml\")\n",
    "        for maincontent in searchpage['soup'].find_all('input',attrs={'id':'ctl00_MainContent_GridFormatter_json_tabledata'}):\n",
    "            if maincontent.has_attr('id'):\n",
    "                subsoup = BeautifulSoup(maincontent['value'],\"lxml\")\n",
    "                for job in subsoup.find_all('input',attrs={'name':'chkJobClientIds'}):\n",
    "                    jobid = job['id']\n",
    "                    joburl = \"%s/jobdetails.aspx?jobId=%s&JobSiteId=%s\"%(self.parmdata['site'],jobid,self.parmdata['siteid'])\n",
    "                    yield joburl\n",
    "                    \n",
    "        numjobs = int(searchpage['soup'].find('input',{'name':'totalrecords'})['value'])\n",
    "        if startrecord == 1:\n",
    "            bar = tqdm_notebook(total=numjobs)\n",
    "        bar.update(50)\n",
    "        if startrecord + 50 >= numjobs:\n",
    "            break\n",
    "        else:\n",
    "            startrecord = startrecord + 50\n",
    "\n",
    "parmdata={'partnerid':54,'siteid' : 5346, 'site':'https://xjobs.brassring.com/TGWebHost'}\n",
    "\n",
    "test = JobScraper('BrassRingSpider',parmdata)"
   ]
  },
  {
   "cell_type": "code",
   "execution_count": 7,
   "metadata": {
    "collapsed": false
   },
   "outputs": [
    {
     "name": "stdout",
     "output_type": "stream",
     "text": [
      "<body id=\"bdyError\">\n",
      "<span role=\"main\">\n",
      "<table border=\"0\" cellpadding=\"0\" cellspacing=\"0\" id=\"ErrorTbl\" role=\"presentation\" width=\"100%\">\n",
      "<tr>\n",
      "<td id=\"imagecontainer\" valign=\"top\"><img alt=\"Error\" src=\"images/error.gif\"/></td>\n",
      "<td id=\"messagecontainer\" valign=\"top\"><h1 class=\"PAGEtitle h1Title\">Error</h1>You have encountered a system error. We apologize for the inconvenience. Please click the Back button to try again or (in case of continued problems) click the Home button to return to the beginning.</td>\n",
      "</tr>\n",
      "<tr>\n",
      "<td colspan=\"2\"><div class=\"text\" id=\"errorid\">Error ID:<img alt=\"\" src=\"images/pixel.gif\" width=\"5px\"/>69406231-f405-4d42-a420-80601ae80a75</div></td>\n",
      "</tr>\n",
      "<tr>\n",
      "<td colspan=\"2\"><div id=\"buttons\"><input id=\"backButton\" name=\"backButton\" onclick=\"javascript:history.go(-1);\" type=\"button\" value=\"Back\"/><img alt=\"\" src=\"images/pixel.gif\" width=\"25px\"/><input aria-label=\"home\" id=\"homeButton\" name=\"homeButton\" onclick=\"javascript:window.location.href='home.aspx?partnerid=54&amp;siteid=5346';\" role=\"button\" type=\"button\" value=\"Home\"/></div></td>\n",
      "</tr>\n",
      "</table></span>\n",
      "</body>\n",
      "<body id=\"bdyError\">\n",
      "<span role=\"main\">\n",
      "<table border=\"0\" cellpadding=\"0\" cellspacing=\"0\" id=\"ErrorTbl\" role=\"presentation\" width=\"100%\">\n",
      "<tr>\n",
      "<td id=\"imagecontainer\" valign=\"top\"><img alt=\"Error\" src=\"images/error.gif\"/></td>\n",
      "<td id=\"messagecontainer\" valign=\"top\"><h1 class=\"PAGEtitle h1Title\">Error</h1>You have encountered a system error. We apologize for the inconvenience. Please click the Back button to try again or (in case of continued problems) click the Home button to return to the beginning.</td>\n",
      "</tr>\n",
      "<tr>\n",
      "<td colspan=\"2\"><div class=\"text\" id=\"errorid\">Error ID:<img alt=\"\" src=\"images/pixel.gif\" width=\"5px\"/>2152ca46-f453-497f-a5a3-022658621b7c</div></td>\n",
      "</tr>\n",
      "<tr>\n",
      "<td colspan=\"2\"><div id=\"buttons\"><input id=\"backButton\" name=\"backButton\" onclick=\"javascript:history.go(-1);\" type=\"button\" value=\"Back\"/><img alt=\"\" src=\"images/pixel.gif\" width=\"25px\"/><input aria-label=\"home\" id=\"homeButton\" name=\"homeButton\" onclick=\"javascript:window.location.href='home.aspx?partnerid=54&amp;siteid=5346';\" role=\"button\" type=\"button\" value=\"Home\"/></div></td>\n",
      "</tr>\n",
      "</table></span>\n",
      "</body>\n",
      "\n"
     ]
    }
   ],
   "source": [
    "mySpider = test.Spider()"
   ]
  },
  {
   "cell_type": "code",
   "execution_count": 8,
   "metadata": {
    "collapsed": false
   },
   "outputs": [
    {
     "data": {
      "text/plain": [
       "{'About Us': u'GE is the world\\u2019s Digital Industrial Company, transforming industry with software-defined machines and solutions that are connected, responsive and predictive. Through our people, leadership development, services, technology and scale, GE delivers better outcomes for global customers by speaking the language of industry.',\n",
       " 'Business': u'GE Power',\n",
       " 'Career Level': u'Experienced',\n",
       " 'City': u'Tzafit',\n",
       " 'Desired Characteristics': u'Willingness to work in 12 hour shifts, including nights, weekends and holidays.',\n",
       " 'Essential Responsibilities': u'As an Operations Technician you will be part of a team working in the Control Room, ensuring a safe and efficient operation of the Power Station, according to the Grid Company demands and the contract with the Customer. Additional function-specific tasks and responsibilities include monitoring the Power Plant production both from the Control Room and from the field, receiving instructions from the grid operator and adjusting the units loads and/or voltage accordingly and issuing work requests whenever a deviation or malfunction is observed.',\n",
       " 'Function': u'Services',\n",
       " 'Function Segment': u'Services Project Management',\n",
       " 'Job Number': u'2541899',\n",
       " 'Location(s) Where Opening Is Available': u'Israel',\n",
       " 'Postal Code': u'7987500',\n",
       " 'Posted Position Title': u'Operations Technician',\n",
       " 'Qualifications/Requirements': u\"Practical Engineer (Electrical or Mechanical) ;\\xa0 Three to five years' experience as an Operator in a Control Room, preferably in a Power Station;\\xa0 Mother tongue Hebrew, fluent English (both verbal and written);\\xa0 Able to learn fast and work independently;\\xa0 Excellent interpersonal skills and teamwork;\\xa0 Ability to work under pressure and make critical decisions when needed\",\n",
       " 'Relocation Assistance': u'No',\n",
       " 'Role Summary/Purpose': u\"We are looking for an Operations Technician for the Dalia (Tzafit) Power Plant, located 10 minutes' drive from Kfar Menahem. The Dalia (Tzafit) Plant is a 835MW combined-cycle power plant (CCPP), the largest of its kind in Israel, adding close to 8% of the country\\u2019s installed power generation capacity . The 2 gas-fired combined-cycle units integrate Alstom\\u2019s GT26 gas turbine, steam turbine, generator and heat recovery steam generator.\"}"
      ]
     },
     "execution_count": 8,
     "metadata": {},
     "output_type": "execute_result"
    }
   ],
   "source": [
    "test.data[0]"
   ]
  },
  {
   "cell_type": "code",
   "execution_count": 8,
   "metadata": {
    "collapsed": false
   },
   "outputs": [
    {
     "ename": "KeyError",
     "evalue": "'Job Title'",
     "output_type": "error",
     "traceback": [
      "\u001b[0;31m---------------------------------------------------------------------------\u001b[0m",
      "\u001b[0;31mKeyError\u001b[0m                                  Traceback (most recent call last)",
      "\u001b[0;32m<ipython-input-8-6939bd0f352c>\u001b[0m in \u001b[0;36m<module>\u001b[0;34m()\u001b[0m\n\u001b[1;32m      1\u001b[0m \u001b[1;32mfor\u001b[0m \u001b[0mdata\u001b[0m \u001b[1;32min\u001b[0m \u001b[0mtest\u001b[0m\u001b[1;33m.\u001b[0m\u001b[0mdata\u001b[0m\u001b[1;33m:\u001b[0m\u001b[1;33m\u001b[0m\u001b[0m\n\u001b[0;32m----> 2\u001b[0;31m     \u001b[1;32mprint\u001b[0m \u001b[0mdata\u001b[0m\u001b[1;33m[\u001b[0m\u001b[1;34m'Job Title'\u001b[0m\u001b[1;33m]\u001b[0m\u001b[1;33m\u001b[0m\u001b[0m\n\u001b[0m\u001b[1;32m      3\u001b[0m     \u001b[0mblah\u001b[0m \u001b[1;33m=\u001b[0m \u001b[0mnlp\u001b[0m\u001b[1;33m(\u001b[0m\u001b[0mdata\u001b[0m\u001b[1;33m[\u001b[0m\u001b[1;34m'Job Description'\u001b[0m\u001b[1;33m]\u001b[0m\u001b[1;33m)\u001b[0m\u001b[1;33m\u001b[0m\u001b[0m\n\u001b[1;32m      4\u001b[0m     \u001b[1;32mfor\u001b[0m \u001b[0mnoun\u001b[0m \u001b[1;32min\u001b[0m \u001b[0mblah\u001b[0m\u001b[1;33m.\u001b[0m\u001b[0mnoun_chunks\u001b[0m\u001b[1;33m:\u001b[0m\u001b[1;33m\u001b[0m\u001b[0m\n\u001b[1;32m      5\u001b[0m         \u001b[1;32mprint\u001b[0m \u001b[0mnoun\u001b[0m\u001b[1;33m\u001b[0m\u001b[0m\n",
      "\u001b[0;31mKeyError\u001b[0m: 'Job Title'"
     ]
    }
   ],
   "source": [
    "for data in test.data:\n",
    "    print data['Job Title']\n",
    "    blah = nlp(data['Job Description'])\n",
    "    for noun in blah.noun_chunks:\n",
    "        print noun"
   ]
  },
  {
   "cell_type": "code",
   "execution_count": 93,
   "metadata": {
    "collapsed": false,
    "scrolled": true
   },
   "outputs": [
    {
     "data": {
      "text/plain": [
       "{'Business': u'GE Renewable Energy',\n",
       " 'Business Segment': u'REN-ONW OnShore Wind',\n",
       " 'Career Level': u'Entry-Level',\n",
       " 'City': u'Bangalore',\n",
       " 'Desired Characteristics': u'\\u2022Knowledge in the field of Wind Turbine Technology. \\u2022Programming skills to develop tools for process automations (Excel VBA, etc.) \\u2022Ability to work with and across all global resources (US, Europe, India, China).',\n",
       " 'Essential Responsibilities': u'\\u2022Support NTI/NPI IP clearance programs by collaborating with technical experts, program managers & IP counsel. \\u2022Explore IP landscaping opportunities and lead the initiative by performing patent analysis. Work with technical experts on white space  opportunities to come up with Invention Disclosure Letters (IDLs). \\u2022Work with domain experts and IP counsel on performing patent invalidity studies.  \\u2022Support patent evaluation board on IDL reviews and provide inputs to bring quality inventions. \\u2022Periodically summarize granted patents across the globe and send alerts to relevant domain experts to work on IP concerns. \\u2022Analyze recently published patents / utility models in various countries and release report monthly to relevant stakeholders. \\u2022Support IP culture drive in BEC Renewable engineering team through IP workouts, tech trend sessions etc..  \\u2022Support inventors in IDL submissions, prior arts searches & office actions.',\n",
       " 'Function': u'Engineering/Technology',\n",
       " 'Function Segment': u'Research',\n",
       " 'Job Number': u'2406375',\n",
       " 'Location(s) Where Opening Is Available': u'India',\n",
       " 'Postal Code': u'560066',\n",
       " 'Posted Position Title': u'Engineer, Intellectual Property',\n",
       " 'Qualifications/Requirements': u'\\u2022Master\\u2019s degree in Electrical, Electrical & Electronics Engineering with \\u2022Good knowledge on usage of patent search tools and databases like Thomson Innovation, PatBase, US PTO, Espacenet, JPO, WIPO etc. \\u2022Good knowledge on various IP studies like Prior-art searches, Landscape analysis, patent invalidity and IP clearance. \\u2022Good knowledge of USA, EU & Indian patent laws. \\u2022Broad technical knowledge and understanding, ability to understand technical content quickly and to categorize it. \\u2022Should possess good oral and written communication skills, with very good text comprehension skills. Affinity to written explanation of technical matters.',\n",
       " 'Relocation Assistance': u'No'}"
      ]
     },
     "execution_count": 93,
     "metadata": {},
     "output_type": "execute_result"
    }
   ],
   "source": [
    "test.data[0]"
   ]
  },
  {
   "cell_type": "code",
   "execution_count": null,
   "metadata": {
    "collapsed": true
   },
   "outputs": [],
   "source": []
  }
 ],
 "metadata": {
  "anaconda-cloud": {},
  "kernelspec": {
   "display_name": "Python [Root]",
   "language": "python",
   "name": "Python [Root]"
  },
  "language_info": {
   "codemirror_mode": {
    "name": "ipython",
    "version": 2
   },
   "file_extension": ".py",
   "mimetype": "text/x-python",
   "name": "python",
   "nbconvert_exporter": "python",
   "pygments_lexer": "ipython2",
   "version": "2.7.10"
  }
 },
 "nbformat": 4,
 "nbformat_minor": 0
}
